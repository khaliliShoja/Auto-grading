{
 "cells": [
  {
   "cell_type": "markdown",
   "metadata": {
    "toc": true
   },
   "source": [
    "<h1>Table of Contents<span class=\"tocSkip\"></span></h1>\n",
    "<div class=\"toc\"><ul class=\"toc-item\"><li><span><a href=\"#Type-of-Variables-and-missing-values\" data-toc-modified-id=\"Type-of-Variables-and-missing-values-1\"><span class=\"toc-item-num\">1&nbsp;&nbsp;</span>Type of Variables and missing values</a></span></li><li><span><a href=\"#Cleaning-the-essay\" data-toc-modified-id=\"Cleaning-the-essay-2\"><span class=\"toc-item-num\">2&nbsp;&nbsp;</span>Cleaning the essay</a></span></li><li><span><a href=\"#Data-visualization\" data-toc-modified-id=\"Data-visualization-3\"><span class=\"toc-item-num\">3&nbsp;&nbsp;</span>Data visualization</a></span></li><li><span><a href=\"#TF-IDF-features\" data-toc-modified-id=\"TF-IDF-features-4\"><span class=\"toc-item-num\">4&nbsp;&nbsp;</span>TF-IDF features</a></span></li><li><span><a href=\"#Feature-scaling-(Y)\" data-toc-modified-id=\"Feature-scaling-(Y)-5\"><span class=\"toc-item-num\">5&nbsp;&nbsp;</span>Feature scaling (Y)</a></span></li><li><span><a href=\"#Lasso\" data-toc-modified-id=\"Lasso-6\"><span class=\"toc-item-num\">6&nbsp;&nbsp;</span>Lasso</a></span></li><li><span><a href=\"#Ridge\" data-toc-modified-id=\"Ridge-7\"><span class=\"toc-item-num\">7&nbsp;&nbsp;</span>Ridge</a></span></li><li><span><a href=\"#Linear-regression\" data-toc-modified-id=\"Linear-regression-8\"><span class=\"toc-item-num\">8&nbsp;&nbsp;</span>Linear regression</a></span></li><li><span><a href=\"#Support-Vector-Regression\" data-toc-modified-id=\"Support-Vector-Regression-9\"><span class=\"toc-item-num\">9&nbsp;&nbsp;</span>Support Vector Regression</a></span></li><li><span><a href=\"#Random-Forest\" data-toc-modified-id=\"Random-Forest-10\"><span class=\"toc-item-num\">10&nbsp;&nbsp;</span>Random Forest</a></span></li><li><span><a href=\"#Artificial-Neural-Network\" data-toc-modified-id=\"Artificial-Neural-Network-11\"><span class=\"toc-item-num\">11&nbsp;&nbsp;</span>Artificial Neural Network</a></span></li></ul></div>"
   ]
  },
  {
   "cell_type": "code",
   "execution_count": 1,
   "metadata": {},
   "outputs": [],
   "source": [
    "import pandas as pd\n",
    "import re\n",
    "import numpy as np\n",
    "import scipy as sp\n",
    "from textblob import TextBlob\n",
    "from textblob import Word\n",
    "import matplotlib.pyplot as plt\n",
    "from sklearn.feature_extraction.text import TfidfVectorizer\n",
    "from sklearn.linear_model import LinearRegression\n",
    "from sklearn.preprocessing import MinMaxScaler\n",
    "from scipy.stats import spearmanr as Spearman\n",
    "from sklearn.model_selection import train_test_split\n",
    "from sklearn.linear_model import Ridge\n",
    "from sklearn.linear_model import Lasso"
   ]
  },
  {
   "cell_type": "code",
   "execution_count": 2,
   "metadata": {},
   "outputs": [
    {
     "data": {
      "text/html": [
       "<div>\n",
       "<style>\n",
       "    .dataframe thead tr:only-child th {\n",
       "        text-align: right;\n",
       "    }\n",
       "\n",
       "    .dataframe thead th {\n",
       "        text-align: left;\n",
       "    }\n",
       "\n",
       "    .dataframe tbody tr th {\n",
       "        vertical-align: top;\n",
       "    }\n",
       "</style>\n",
       "<table border=\"1\" class=\"dataframe\">\n",
       "  <thead>\n",
       "    <tr style=\"text-align: right;\">\n",
       "      <th></th>\n",
       "      <th>Unnamed: 0</th>\n",
       "      <th>essay_id</th>\n",
       "      <th>essay_set</th>\n",
       "      <th>essay</th>\n",
       "      <th>rater1_domain1</th>\n",
       "      <th>rater2_domain1</th>\n",
       "      <th>domain1_score</th>\n",
       "      <th>*_# of words_*</th>\n",
       "      <th>*_# of sentences_*</th>\n",
       "      <th>*_Average lenght of sentences_*</th>\n",
       "      <th>*_# of large words_*</th>\n",
       "      <th>*_Sentiment_Polarity_*</th>\n",
       "      <th>*_# of Nouns_*</th>\n",
       "      <th>*_# of Verbs_*</th>\n",
       "      <th>*_# of Adverbs_*</th>\n",
       "      <th>*_# of Adjectives_*</th>\n",
       "      <th>*_# of grammer mistakes_*</th>\n",
       "      <th>*_# of spelling mistakes*</th>\n",
       "    </tr>\n",
       "  </thead>\n",
       "  <tbody>\n",
       "    <tr>\n",
       "      <th>0</th>\n",
       "      <td>0</td>\n",
       "      <td>1</td>\n",
       "      <td>1</td>\n",
       "      <td>Dear local newspaper, I think effects computer...</td>\n",
       "      <td>4.0</td>\n",
       "      <td>4.0</td>\n",
       "      <td>8.0</td>\n",
       "      <td>343.0</td>\n",
       "      <td>16.0</td>\n",
       "      <td>21.125000</td>\n",
       "      <td>59.0</td>\n",
       "      <td>0.310471</td>\n",
       "      <td>84.0</td>\n",
       "      <td>68.0</td>\n",
       "      <td>26.0</td>\n",
       "      <td>20.0</td>\n",
       "      <td>11.0</td>\n",
       "      <td>21.0</td>\n",
       "    </tr>\n",
       "    <tr>\n",
       "      <th>1</th>\n",
       "      <td>1</td>\n",
       "      <td>2</td>\n",
       "      <td>1</td>\n",
       "      <td>Dear @CAPS1 @CAPS2, I believe that using compu...</td>\n",
       "      <td>5.0</td>\n",
       "      <td>4.0</td>\n",
       "      <td>9.0</td>\n",
       "      <td>422.0</td>\n",
       "      <td>20.0</td>\n",
       "      <td>20.950000</td>\n",
       "      <td>81.0</td>\n",
       "      <td>0.274000</td>\n",
       "      <td>114.0</td>\n",
       "      <td>85.0</td>\n",
       "      <td>20.0</td>\n",
       "      <td>21.0</td>\n",
       "      <td>19.0</td>\n",
       "      <td>20.0</td>\n",
       "    </tr>\n",
       "    <tr>\n",
       "      <th>2</th>\n",
       "      <td>2</td>\n",
       "      <td>3</td>\n",
       "      <td>1</td>\n",
       "      <td>Dear, @CAPS1 @CAPS2 @CAPS3 More and more peopl...</td>\n",
       "      <td>4.0</td>\n",
       "      <td>3.0</td>\n",
       "      <td>7.0</td>\n",
       "      <td>283.0</td>\n",
       "      <td>14.0</td>\n",
       "      <td>19.928571</td>\n",
       "      <td>52.0</td>\n",
       "      <td>0.340393</td>\n",
       "      <td>86.0</td>\n",
       "      <td>53.0</td>\n",
       "      <td>18.0</td>\n",
       "      <td>19.0</td>\n",
       "      <td>9.0</td>\n",
       "      <td>5.0</td>\n",
       "    </tr>\n",
       "    <tr>\n",
       "      <th>3</th>\n",
       "      <td>3</td>\n",
       "      <td>4</td>\n",
       "      <td>1</td>\n",
       "      <td>Dear Local Newspaper, @CAPS1 I have found that...</td>\n",
       "      <td>5.0</td>\n",
       "      <td>5.0</td>\n",
       "      <td>10.0</td>\n",
       "      <td>527.0</td>\n",
       "      <td>27.0</td>\n",
       "      <td>19.407407</td>\n",
       "      <td>131.0</td>\n",
       "      <td>0.266828</td>\n",
       "      <td>200.0</td>\n",
       "      <td>98.0</td>\n",
       "      <td>30.0</td>\n",
       "      <td>52.0</td>\n",
       "      <td>35.0</td>\n",
       "      <td>22.0</td>\n",
       "    </tr>\n",
       "    <tr>\n",
       "      <th>4</th>\n",
       "      <td>4</td>\n",
       "      <td>5</td>\n",
       "      <td>1</td>\n",
       "      <td>Dear @LOCATION1, I know having computers has a...</td>\n",
       "      <td>4.0</td>\n",
       "      <td>4.0</td>\n",
       "      <td>8.0</td>\n",
       "      <td>470.0</td>\n",
       "      <td>30.0</td>\n",
       "      <td>15.500000</td>\n",
       "      <td>87.0</td>\n",
       "      <td>0.199684</td>\n",
       "      <td>116.0</td>\n",
       "      <td>87.0</td>\n",
       "      <td>39.0</td>\n",
       "      <td>30.0</td>\n",
       "      <td>17.0</td>\n",
       "      <td>25.0</td>\n",
       "    </tr>\n",
       "  </tbody>\n",
       "</table>\n",
       "</div>"
      ],
      "text/plain": [
       "   Unnamed: 0  essay_id  essay_set  \\\n",
       "0           0         1          1   \n",
       "1           1         2          1   \n",
       "2           2         3          1   \n",
       "3           3         4          1   \n",
       "4           4         5          1   \n",
       "\n",
       "                                               essay  rater1_domain1  \\\n",
       "0  Dear local newspaper, I think effects computer...             4.0   \n",
       "1  Dear @CAPS1 @CAPS2, I believe that using compu...             5.0   \n",
       "2  Dear, @CAPS1 @CAPS2 @CAPS3 More and more peopl...             4.0   \n",
       "3  Dear Local Newspaper, @CAPS1 I have found that...             5.0   \n",
       "4  Dear @LOCATION1, I know having computers has a...             4.0   \n",
       "\n",
       "   rater2_domain1  domain1_score  *_# of words_*  *_# of sentences_*  \\\n",
       "0             4.0            8.0           343.0                16.0   \n",
       "1             4.0            9.0           422.0                20.0   \n",
       "2             3.0            7.0           283.0                14.0   \n",
       "3             5.0           10.0           527.0                27.0   \n",
       "4             4.0            8.0           470.0                30.0   \n",
       "\n",
       "   *_Average lenght of sentences_*  *_# of large words_*  \\\n",
       "0                        21.125000                  59.0   \n",
       "1                        20.950000                  81.0   \n",
       "2                        19.928571                  52.0   \n",
       "3                        19.407407                 131.0   \n",
       "4                        15.500000                  87.0   \n",
       "\n",
       "   *_Sentiment_Polarity_*  *_# of Nouns_*  *_# of Verbs_*  *_# of Adverbs_*  \\\n",
       "0                0.310471            84.0            68.0              26.0   \n",
       "1                0.274000           114.0            85.0              20.0   \n",
       "2                0.340393            86.0            53.0              18.0   \n",
       "3                0.266828           200.0            98.0              30.0   \n",
       "4                0.199684           116.0            87.0              39.0   \n",
       "\n",
       "   *_# of Adjectives_*  *_# of grammer mistakes_*  *_# of spelling mistakes*  \n",
       "0                 20.0                       11.0                       21.0  \n",
       "1                 21.0                       19.0                       20.0  \n",
       "2                 19.0                        9.0                        5.0  \n",
       "3                 52.0                       35.0                       22.0  \n",
       "4                 30.0                       17.0                       25.0  "
      ]
     },
     "execution_count": 2,
     "metadata": {},
     "output_type": "execute_result"
    }
   ],
   "source": [
    "df = pd.read_csv(\"C:\\\\Users\\\\mohammad\\\\Desktop\\\\GlobalEnglish\\\\khalili\\\\data.csv\")\n",
    "df.head()"
   ]
  },
  {
   "cell_type": "markdown",
   "metadata": {},
   "source": [
    "# Type of Variables and missing values"
   ]
  },
  {
   "cell_type": "code",
   "execution_count": 3,
   "metadata": {},
   "outputs": [
    {
     "name": "stdout",
     "output_type": "stream",
     "text": [
      "Number of rows:  12978 \n",
      "\n",
      "\n",
      "\n",
      "Data types \n",
      "---------\n",
      "\n",
      " Unnamed: 0                           int64\n",
      "essay_id                             int64\n",
      "essay_set                            int64\n",
      "essay                               object\n",
      "rater1_domain1                     float64\n",
      "rater2_domain1                     float64\n",
      "domain1_score                      float64\n",
      "*_# of words_*                     float64\n",
      "*_# of sentences_*                 float64\n",
      "*_Average lenght of sentences_*    float64\n",
      "*_# of large words_*               float64\n",
      "*_Sentiment_Polarity_*             float64\n",
      "*_# of Nouns_*                     float64\n",
      "*_# of Verbs_*                     float64\n",
      "*_# of Adverbs_*                   float64\n",
      "*_# of Adjectives_*                float64\n",
      "*_# of grammer mistakes_*          float64\n",
      "*_# of spelling mistakes*          float64\n",
      "dtype: object \n",
      "\n",
      "\n",
      "\n",
      "Number of nulls : \n",
      "---------\n",
      "\n",
      " Unnamed: 0                         0\n",
      "essay_id                           0\n",
      "essay_set                          0\n",
      "essay                              0\n",
      "rater1_domain1                     1\n",
      "rater2_domain1                     1\n",
      "domain1_score                      1\n",
      "*_# of words_*                     0\n",
      "*_# of sentences_*                 0\n",
      "*_Average lenght of sentences_*    0\n",
      "*_# of large words_*               0\n",
      "*_Sentiment_Polarity_*             0\n",
      "*_# of Nouns_*                     0\n",
      "*_# of Verbs_*                     0\n",
      "*_# of Adverbs_*                   0\n",
      "*_# of Adjectives_*                0\n",
      "*_# of grammer mistakes_*          0\n",
      "*_# of spelling mistakes*          0\n",
      "dtype: int64\n"
     ]
    }
   ],
   "source": [
    "print(\"Number of rows: \", len(df), \"\\n\\n\\n\")\n",
    "print(\"Data types \\n---------\\n\\n\", df.dtypes, \"\\n\\n\\n\")\n",
    "print('Number of nulls : \\n---------\\n\\n', df.isnull().sum())"
   ]
  },
  {
   "cell_type": "code",
   "execution_count": 4,
   "metadata": {},
   "outputs": [
    {
     "data": {
      "text/html": [
       "<div>\n",
       "<style>\n",
       "    .dataframe thead tr:only-child th {\n",
       "        text-align: right;\n",
       "    }\n",
       "\n",
       "    .dataframe thead th {\n",
       "        text-align: left;\n",
       "    }\n",
       "\n",
       "    .dataframe tbody tr th {\n",
       "        vertical-align: top;\n",
       "    }\n",
       "</style>\n",
       "<table border=\"1\" class=\"dataframe\">\n",
       "  <thead>\n",
       "    <tr style=\"text-align: right;\">\n",
       "      <th></th>\n",
       "      <th>Unnamed: 0</th>\n",
       "      <th>essay_id</th>\n",
       "      <th>essay_set</th>\n",
       "      <th>essay</th>\n",
       "      <th>rater1_domain1</th>\n",
       "      <th>rater2_domain1</th>\n",
       "      <th>domain1_score</th>\n",
       "      <th>*_# of words_*</th>\n",
       "      <th>*_# of sentences_*</th>\n",
       "      <th>*_Average lenght of sentences_*</th>\n",
       "      <th>*_# of large words_*</th>\n",
       "      <th>*_Sentiment_Polarity_*</th>\n",
       "      <th>*_# of Nouns_*</th>\n",
       "      <th>*_# of Verbs_*</th>\n",
       "      <th>*_# of Adverbs_*</th>\n",
       "      <th>*_# of Adjectives_*</th>\n",
       "      <th>*_# of grammer mistakes_*</th>\n",
       "      <th>*_# of spelling mistakes*</th>\n",
       "    </tr>\n",
       "  </thead>\n",
       "  <tbody>\n",
       "    <tr>\n",
       "      <th>6973</th>\n",
       "      <td>6973</td>\n",
       "      <td>10534</td>\n",
       "      <td>4</td>\n",
       "      <td>When they come back, Saeng vowed silently to h...</td>\n",
       "      <td>NaN</td>\n",
       "      <td>NaN</td>\n",
       "      <td>NaN</td>\n",
       "      <td>101.0</td>\n",
       "      <td>4.0</td>\n",
       "      <td>24.5</td>\n",
       "      <td>15.0</td>\n",
       "      <td>-0.005</td>\n",
       "      <td>24.0</td>\n",
       "      <td>18.0</td>\n",
       "      <td>6.0</td>\n",
       "      <td>3.0</td>\n",
       "      <td>5.0</td>\n",
       "      <td>5.0</td>\n",
       "    </tr>\n",
       "  </tbody>\n",
       "</table>\n",
       "</div>"
      ],
      "text/plain": [
       "      Unnamed: 0  essay_id  essay_set  \\\n",
       "6973        6973     10534          4   \n",
       "\n",
       "                                                  essay  rater1_domain1  \\\n",
       "6973  When they come back, Saeng vowed silently to h...             NaN   \n",
       "\n",
       "      rater2_domain1  domain1_score  *_# of words_*  *_# of sentences_*  \\\n",
       "6973             NaN            NaN           101.0                 4.0   \n",
       "\n",
       "      *_Average lenght of sentences_*  *_# of large words_*  \\\n",
       "6973                             24.5                  15.0   \n",
       "\n",
       "      *_Sentiment_Polarity_*  *_# of Nouns_*  *_# of Verbs_*  \\\n",
       "6973                  -0.005            24.0            18.0   \n",
       "\n",
       "      *_# of Adverbs_*  *_# of Adjectives_*  *_# of grammer mistakes_*  \\\n",
       "6973               6.0                  3.0                        5.0   \n",
       "\n",
       "      *_# of spelling mistakes*  \n",
       "6973                        5.0  "
      ]
     },
     "execution_count": 4,
     "metadata": {},
     "output_type": "execute_result"
    }
   ],
   "source": [
    "df[df['rater1_domain1'].isnull()] "
   ]
  },
  {
   "cell_type": "markdown",
   "metadata": {},
   "source": [
    "Since there is only one missing value, I prefer to drop it instead of applying imputation methods."
   ]
  },
  {
   "cell_type": "code",
   "execution_count": 5,
   "metadata": {},
   "outputs": [],
   "source": [
    "df = df.drop(6973)\n",
    "df = df.reset_index()\n",
    "df = df.drop('index', axis = 1)"
   ]
  },
  {
   "cell_type": "markdown",
   "metadata": {},
   "source": [
    "# Cleaning the essay"
   ]
  },
  {
   "cell_type": "code",
   "execution_count": 6,
   "metadata": {},
   "outputs": [
    {
     "data": {
      "text/html": [
       "<div>\n",
       "<style>\n",
       "    .dataframe thead tr:only-child th {\n",
       "        text-align: right;\n",
       "    }\n",
       "\n",
       "    .dataframe thead th {\n",
       "        text-align: left;\n",
       "    }\n",
       "\n",
       "    .dataframe tbody tr th {\n",
       "        vertical-align: top;\n",
       "    }\n",
       "</style>\n",
       "<table border=\"1\" class=\"dataframe\">\n",
       "  <thead>\n",
       "    <tr style=\"text-align: right;\">\n",
       "      <th></th>\n",
       "      <th>Unnamed: 0</th>\n",
       "      <th>essay_id</th>\n",
       "      <th>essay_set</th>\n",
       "      <th>essay</th>\n",
       "      <th>rater1_domain1</th>\n",
       "      <th>rater2_domain1</th>\n",
       "      <th>domain1_score</th>\n",
       "      <th>*_# of words_*</th>\n",
       "      <th>*_# of sentences_*</th>\n",
       "      <th>*_Average lenght of sentences_*</th>\n",
       "      <th>*_# of large words_*</th>\n",
       "      <th>*_Sentiment_Polarity_*</th>\n",
       "      <th>*_# of Nouns_*</th>\n",
       "      <th>*_# of Verbs_*</th>\n",
       "      <th>*_# of Adverbs_*</th>\n",
       "      <th>*_# of Adjectives_*</th>\n",
       "      <th>*_# of grammer mistakes_*</th>\n",
       "      <th>*_# of spelling mistakes*</th>\n",
       "      <th>essay_clean</th>\n",
       "    </tr>\n",
       "  </thead>\n",
       "  <tbody>\n",
       "    <tr>\n",
       "      <th>0</th>\n",
       "      <td>0</td>\n",
       "      <td>1</td>\n",
       "      <td>1</td>\n",
       "      <td>Dear local newspaper, I think effects computer...</td>\n",
       "      <td>4.0</td>\n",
       "      <td>4.0</td>\n",
       "      <td>8.0</td>\n",
       "      <td>343.0</td>\n",
       "      <td>16.0</td>\n",
       "      <td>21.125000</td>\n",
       "      <td>59.0</td>\n",
       "      <td>0.310471</td>\n",
       "      <td>84.0</td>\n",
       "      <td>68.0</td>\n",
       "      <td>26.0</td>\n",
       "      <td>20.0</td>\n",
       "      <td>11.0</td>\n",
       "      <td>21.0</td>\n",
       "      <td>Dear local newspaper, I think effects computer...</td>\n",
       "    </tr>\n",
       "    <tr>\n",
       "      <th>1</th>\n",
       "      <td>1</td>\n",
       "      <td>2</td>\n",
       "      <td>1</td>\n",
       "      <td>Dear @CAPS1 @CAPS2, I believe that using compu...</td>\n",
       "      <td>5.0</td>\n",
       "      <td>4.0</td>\n",
       "      <td>9.0</td>\n",
       "      <td>422.0</td>\n",
       "      <td>20.0</td>\n",
       "      <td>20.950000</td>\n",
       "      <td>81.0</td>\n",
       "      <td>0.274000</td>\n",
       "      <td>114.0</td>\n",
       "      <td>85.0</td>\n",
       "      <td>20.0</td>\n",
       "      <td>21.0</td>\n",
       "      <td>19.0</td>\n",
       "      <td>20.0</td>\n",
       "      <td>Dear   , I believe that using computers will b...</td>\n",
       "    </tr>\n",
       "    <tr>\n",
       "      <th>2</th>\n",
       "      <td>2</td>\n",
       "      <td>3</td>\n",
       "      <td>1</td>\n",
       "      <td>Dear, @CAPS1 @CAPS2 @CAPS3 More and more peopl...</td>\n",
       "      <td>4.0</td>\n",
       "      <td>3.0</td>\n",
       "      <td>7.0</td>\n",
       "      <td>283.0</td>\n",
       "      <td>14.0</td>\n",
       "      <td>19.928571</td>\n",
       "      <td>52.0</td>\n",
       "      <td>0.340393</td>\n",
       "      <td>86.0</td>\n",
       "      <td>53.0</td>\n",
       "      <td>18.0</td>\n",
       "      <td>19.0</td>\n",
       "      <td>9.0</td>\n",
       "      <td>5.0</td>\n",
       "      <td>Dear,    , but not everyone agrees that this b...</td>\n",
       "    </tr>\n",
       "    <tr>\n",
       "      <th>3</th>\n",
       "      <td>3</td>\n",
       "      <td>4</td>\n",
       "      <td>1</td>\n",
       "      <td>Dear Local Newspaper, @CAPS1 I have found that...</td>\n",
       "      <td>5.0</td>\n",
       "      <td>5.0</td>\n",
       "      <td>10.0</td>\n",
       "      <td>527.0</td>\n",
       "      <td>27.0</td>\n",
       "      <td>19.407407</td>\n",
       "      <td>131.0</td>\n",
       "      <td>0.266828</td>\n",
       "      <td>200.0</td>\n",
       "      <td>98.0</td>\n",
       "      <td>30.0</td>\n",
       "      <td>52.0</td>\n",
       "      <td>35.0</td>\n",
       "      <td>22.0</td>\n",
       "      <td>Dear Local Newspaper,  . In some cases this is...</td>\n",
       "    </tr>\n",
       "    <tr>\n",
       "      <th>4</th>\n",
       "      <td>4</td>\n",
       "      <td>5</td>\n",
       "      <td>1</td>\n",
       "      <td>Dear @LOCATION1, I know having computers has a...</td>\n",
       "      <td>4.0</td>\n",
       "      <td>4.0</td>\n",
       "      <td>8.0</td>\n",
       "      <td>470.0</td>\n",
       "      <td>30.0</td>\n",
       "      <td>15.500000</td>\n",
       "      <td>87.0</td>\n",
       "      <td>0.199684</td>\n",
       "      <td>116.0</td>\n",
       "      <td>87.0</td>\n",
       "      <td>39.0</td>\n",
       "      <td>30.0</td>\n",
       "      <td>17.0</td>\n",
       "      <td>25.0</td>\n",
       "      <td>Dear  , I know having computers has a positive...</td>\n",
       "    </tr>\n",
       "  </tbody>\n",
       "</table>\n",
       "</div>"
      ],
      "text/plain": [
       "   Unnamed: 0  essay_id  essay_set  \\\n",
       "0           0         1          1   \n",
       "1           1         2          1   \n",
       "2           2         3          1   \n",
       "3           3         4          1   \n",
       "4           4         5          1   \n",
       "\n",
       "                                               essay  rater1_domain1  \\\n",
       "0  Dear local newspaper, I think effects computer...             4.0   \n",
       "1  Dear @CAPS1 @CAPS2, I believe that using compu...             5.0   \n",
       "2  Dear, @CAPS1 @CAPS2 @CAPS3 More and more peopl...             4.0   \n",
       "3  Dear Local Newspaper, @CAPS1 I have found that...             5.0   \n",
       "4  Dear @LOCATION1, I know having computers has a...             4.0   \n",
       "\n",
       "   rater2_domain1  domain1_score  *_# of words_*  *_# of sentences_*  \\\n",
       "0             4.0            8.0           343.0                16.0   \n",
       "1             4.0            9.0           422.0                20.0   \n",
       "2             3.0            7.0           283.0                14.0   \n",
       "3             5.0           10.0           527.0                27.0   \n",
       "4             4.0            8.0           470.0                30.0   \n",
       "\n",
       "   *_Average lenght of sentences_*  *_# of large words_*  \\\n",
       "0                        21.125000                  59.0   \n",
       "1                        20.950000                  81.0   \n",
       "2                        19.928571                  52.0   \n",
       "3                        19.407407                 131.0   \n",
       "4                        15.500000                  87.0   \n",
       "\n",
       "   *_Sentiment_Polarity_*  *_# of Nouns_*  *_# of Verbs_*  *_# of Adverbs_*  \\\n",
       "0                0.310471            84.0            68.0              26.0   \n",
       "1                0.274000           114.0            85.0              20.0   \n",
       "2                0.340393            86.0            53.0              18.0   \n",
       "3                0.266828           200.0            98.0              30.0   \n",
       "4                0.199684           116.0            87.0              39.0   \n",
       "\n",
       "   *_# of Adjectives_*  *_# of grammer mistakes_*  *_# of spelling mistakes*  \\\n",
       "0                 20.0                       11.0                       21.0   \n",
       "1                 21.0                       19.0                       20.0   \n",
       "2                 19.0                        9.0                        5.0   \n",
       "3                 52.0                       35.0                       22.0   \n",
       "4                 30.0                       17.0                       25.0   \n",
       "\n",
       "                                         essay_clean  \n",
       "0  Dear local newspaper, I think effects computer...  \n",
       "1  Dear   , I believe that using computers will b...  \n",
       "2  Dear,    , but not everyone agrees that this b...  \n",
       "3  Dear Local Newspaper,  . In some cases this is...  \n",
       "4  Dear  , I know having computers has a positive...  "
      ]
     },
     "execution_count": 6,
     "metadata": {},
     "output_type": "execute_result"
    }
   ],
   "source": [
    "\n",
    "def cleanData_(row):\n",
    "    a = row['essay']\n",
    "    a = re.sub('@[a-z A-Z 0-9]+', ' ', a)\n",
    "    return a\n",
    "\n",
    "df ['essay_clean'] = df.apply(cleanData_, axis = 1)\n",
    "df.head()"
   ]
  },
  {
   "cell_type": "markdown",
   "metadata": {},
   "source": [
    "# Data visualization"
   ]
  },
  {
   "cell_type": "markdown",
   "metadata": {},
   "source": [
    "To make this jupyter a liitle concise, I just plot some figures for essay set 1. We can plot other figures in the same way. "
   ]
  },
  {
   "cell_type": "code",
   "execution_count": 7,
   "metadata": {},
   "outputs": [
    {
     "data": {
      "text/plain": [
       "Text(0,0.5,'Score')"
      ]
     },
     "execution_count": 7,
     "metadata": {},
     "output_type": "execute_result"
    },
    {
     "data": {
      "image/png": "[encoded data removed]",
      "text/plain": [
       "<matplotlib.figure.Figure at 0x3776d3f4a8>"
      ]
     },
     "metadata": {},
     "output_type": "display_data"
    }
   ],
   "source": [
    "df1 = df[df['essay_set'] == 1]\n",
    "plt.scatter(df1['*_# of words_*'].values, df1['domain1_score'].values/2,  marker=\"o\")\n",
    "plt.xlabel('Number of words')\n",
    "plt.ylabel('Score')"
   ]
  },
  {
   "cell_type": "code",
   "execution_count": 8,
   "metadata": {},
   "outputs": [
    {
     "data": {
      "text/plain": [
       "Text(0,0.5,'Score')"
      ]
     },
     "execution_count": 8,
     "metadata": {},
     "output_type": "execute_result"
    },
    {
     "data": {
      "image/png": "[encoded data removed]",
      "text/plain": [
       "<matplotlib.figure.Figure at 0x37771b8d30>"
      ]
     },
     "metadata": {},
     "output_type": "display_data"
    }
   ],
   "source": [
    "plt.scatter(df1['*_# of sentences_*'].values, df1['domain1_score'].values/2,  marker=\"o\")\n",
    "plt.xlabel('Number of Sentences')\n",
    "plt.ylabel('Score')"
   ]
  },
  {
   "cell_type": "code",
   "execution_count": 9,
   "metadata": {},
   "outputs": [
    {
     "data": {
      "text/plain": [
       "Text(0,0.5,'Score')"
      ]
     },
     "execution_count": 9,
     "metadata": {},
     "output_type": "execute_result"
    },
    {
     "data": {
      "image/png": "[encoded data removed]",
      "text/plain": [
       "<matplotlib.figure.Figure at 0x3776ece320>"
      ]
     },
     "metadata": {},
     "output_type": "display_data"
    }
   ],
   "source": [
    "plt.scatter(df1['*_# of spelling mistakes*'].values, df1['domain1_score'].values/2,  marker=\"o\")\n",
    "plt.xlabel('Number of Spelling Mistakes')\n",
    "plt.ylabel('Score')"
   ]
  },
  {
   "cell_type": "code",
   "execution_count": 10,
   "metadata": {},
   "outputs": [
    {
     "data": {
      "text/plain": [
       "Text(0,0.5,'Score')"
      ]
     },
     "execution_count": 10,
     "metadata": {},
     "output_type": "execute_result"
    },
    {
     "data": {
      "image/png": "[encoded data removed]",
      "text/plain": [
       "<matplotlib.figure.Figure at 0x37771115c0>"
      ]
     },
     "metadata": {},
     "output_type": "display_data"
    }
   ],
   "source": [
    "plt.scatter(df1['*_# of large words_*'].values, df1['domain1_score'].values/2,  marker=\"o\")\n",
    "plt.xlabel('Number of long Words')\n",
    "plt.ylabel('Score')"
   ]
  },
  {
   "cell_type": "code",
   "execution_count": 11,
   "metadata": {},
   "outputs": [
    {
     "data": {
      "text/plain": [
       "Text(0.5,0,'Score')"
      ]
     },
     "execution_count": 11,
     "metadata": {},
     "output_type": "execute_result"
    },
    {
     "data": {
      "image/png": "[encoded data removed]",
      "text/plain": [
       "<matplotlib.figure.Figure at 0x3776f6d6d8>"
      ]
     },
     "metadata": {},
     "output_type": "display_data"
    }
   ],
   "source": [
    "fig=df1['domain1_score'].hist(bins=10)\n",
    "fig.set_ylabel('Number of Students')\n",
    "fig.set_xlabel('Score')"
   ]
  },
  {
   "cell_type": "markdown",
   "metadata": {},
   "source": [
    "We can find a model for each essay set. Note that I want to apply regression algorithms but we can apply classification\n",
    "algorithms as well especially for essay set 1-6. I mean when the score is bounded by 12 we can assume that the score is \n",
    "in one of the 13 classes. "
   ]
  },
  {
   "cell_type": "markdown",
   "metadata": {},
   "source": [
    "# TF-IDF features"
   ]
  },
  {
   "cell_type": "code",
   "execution_count": 12,
   "metadata": {},
   "outputs": [],
   "source": [
    "df=df.rename(columns = {'essay':'essay_*'})\n",
    "\n",
    "\n",
    "\n",
    "# TF_IDF features for each set is computed and then is concateneted to the existing dataframe.\n",
    "for essay_set_group, dataframe in df.groupby('essay_set'):\n",
    "    if (essay_set_group == 1):\n",
    "        df_1 = dataframe\n",
    "        vectorizer_1 = TfidfVectorizer(stop_words = 'english')\n",
    "        vec_df = vectorizer_1.fit_transform(df_1['essay_clean'])\n",
    "        df_11 = pd.DataFrame(vec_df.toarray(), columns=vectorizer_1.get_feature_names())\n",
    "        df_1 = df_1.reset_index()\n",
    "        df_1 = pd.concat([df_1, df_11], axis=1)\n",
    "    \n",
    "    \n",
    "    \n",
    "    elif (essay_set_group == 2):\n",
    "        df_2 = dataframe\n",
    "        vectorizer_2 = TfidfVectorizer(stop_words = 'english')\n",
    "        vec_df = vectorizer_2.fit_transform(df_2['essay_clean'])\n",
    "        df_21 = pd.DataFrame(vec_df.toarray(), columns=vectorizer_2.get_feature_names())\n",
    "        df_2 = df_2.reset_index()\n",
    "        df_2 = pd.concat([df_2, df_21], axis=1)\n",
    "    \n",
    "    \n",
    "    elif (essay_set_group == 3):\n",
    "        df_3 = dataframe\n",
    "        vectorizer_3 = TfidfVectorizer(stop_words = 'english')\n",
    "        vec_df = vectorizer_3.fit_transform(df_3['essay_clean'])\n",
    "        df_31 = pd.DataFrame(vec_df.toarray(), columns=vectorizer_3.get_feature_names())\n",
    "        df_3 = df_3.reset_index()\n",
    "        df_3 = pd.concat([df_3, df_31], axis=1)\n",
    "    \n",
    "    \n",
    "    elif (essay_set_group == 4):\n",
    "        df_4 = dataframe\n",
    "        vectorizer_4 = TfidfVectorizer(stop_words = 'english')\n",
    "        vec_df = vectorizer_4.fit_transform(df_4['essay_clean'])\n",
    "        df_41 = pd.DataFrame(vec_df.toarray(), columns=vectorizer_4.get_feature_names())\n",
    "        df_4 = df_4.reset_index()\n",
    "        df_4 = pd.concat([df_4, df_41], axis=1)    \n",
    "    \n",
    "    elif (essay_set_group == 5):\n",
    "        df_5 = dataframe\n",
    "        vectorizer_5 = TfidfVectorizer(stop_words = 'english')\n",
    "        vec_df = vectorizer_5.fit_transform(df_5['essay_clean'])\n",
    "        df_51 = pd.DataFrame(vec_df.toarray(), columns=vectorizer_5.get_feature_names())\n",
    "        df_5 = df_5.reset_index()\n",
    "        df_5 = pd.concat([df_5, df_51], axis=1)\n",
    "    elif (essay_set_group == 6):\n",
    "        df_6 = dataframe\n",
    "        vectorizer_6 = TfidfVectorizer(stop_words = 'english')\n",
    "        vec_df = vectorizer_6.fit_transform(df_6['essay_clean'])\n",
    "        df_61 = pd.DataFrame(vec_df.toarray(), columns=vectorizer_6.get_feature_names())\n",
    "        df_6 = df_6.reset_index()\n",
    "        df_6 = pd.concat([df_6, df_61], axis=1)\n",
    "    elif (essay_set_group == 7):\n",
    "        df_7 = dataframe\n",
    "        vectorizer_7 = TfidfVectorizer(stop_words = 'english')\n",
    "        vec_df = vectorizer_7.fit_transform(df_7['essay_clean'])\n",
    "        df_71 = pd.DataFrame(vec_df.toarray(), columns=vectorizer_7.get_feature_names())\n",
    "        df_7 = df_7.reset_index()\n",
    "        df_7 = pd.concat([df_7, df_71], axis=1)\n",
    "    else:\n",
    "        df_8 = dataframe\n",
    "        vectorizer_8 = TfidfVectorizer(stop_words = 'english')\n",
    "        vec_df = vectorizer_8.fit_transform(df_8['essay_clean'])\n",
    "        df_81 = pd.DataFrame(vec_df.toarray(), columns=vectorizer_8.get_feature_names())\n",
    "        df_8 = df_8.reset_index()\n",
    "        df_8 = pd.concat([df_8, df_81], axis=1)\n",
    "    \n"
   ]
  },
  {
   "cell_type": "code",
   "execution_count": 13,
   "metadata": {},
   "outputs": [],
   "source": [
    "dataframes = [df_1, df_2, df_3, df_4, df_5, df_6, df_7, df_8]\n",
    "for i in dataframes:\n",
    "    i = i.drop(['index', 'Unnamed: 0'], axis = 1, inplace= True)"
   ]
  },
  {
   "cell_type": "code",
   "execution_count": 14,
   "metadata": {},
   "outputs": [
    {
     "data": {
      "text/html": [
       "<div>\n",
       "<style>\n",
       "    .dataframe thead tr:only-child th {\n",
       "        text-align: right;\n",
       "    }\n",
       "\n",
       "    .dataframe thead th {\n",
       "        text-align: left;\n",
       "    }\n",
       "\n",
       "    .dataframe tbody tr th {\n",
       "        vertical-align: top;\n",
       "    }\n",
       "</style>\n",
       "<table border=\"1\" class=\"dataframe\">\n",
       "  <thead>\n",
       "    <tr style=\"text-align: right;\">\n",
       "      <th></th>\n",
       "      <th>essay_id</th>\n",
       "      <th>essay_set</th>\n",
       "      <th>essay_*</th>\n",
       "      <th>rater1_domain1</th>\n",
       "      <th>rater2_domain1</th>\n",
       "      <th>domain1_score</th>\n",
       "      <th>*_# of words_*</th>\n",
       "      <th>*_# of sentences_*</th>\n",
       "      <th>*_Average lenght of sentences_*</th>\n",
       "      <th>*_# of large words_*</th>\n",
       "      <th>...</th>\n",
       "      <th>ªbut</th>\n",
       "      <th>ªcomputers</th>\n",
       "      <th>ªcyberspace</th>\n",
       "      <th>ªgame</th>\n",
       "      <th>ªhey</th>\n",
       "      <th>ªhome</th>\n",
       "      <th>ªhuh</th>\n",
       "      <th>ªin</th>\n",
       "      <th>ªmom</th>\n",
       "      <th>ªreal</th>\n",
       "    </tr>\n",
       "  </thead>\n",
       "  <tbody>\n",
       "    <tr>\n",
       "      <th>0</th>\n",
       "      <td>1</td>\n",
       "      <td>1</td>\n",
       "      <td>Dear local newspaper, I think effects computer...</td>\n",
       "      <td>4.0</td>\n",
       "      <td>4.0</td>\n",
       "      <td>8.0</td>\n",
       "      <td>343.0</td>\n",
       "      <td>16.0</td>\n",
       "      <td>21.125000</td>\n",
       "      <td>59.0</td>\n",
       "      <td>...</td>\n",
       "      <td>0.0</td>\n",
       "      <td>0.0</td>\n",
       "      <td>0.0</td>\n",
       "      <td>0.0</td>\n",
       "      <td>0.0</td>\n",
       "      <td>0.0</td>\n",
       "      <td>0.0</td>\n",
       "      <td>0.0</td>\n",
       "      <td>0.0</td>\n",
       "      <td>0.0</td>\n",
       "    </tr>\n",
       "    <tr>\n",
       "      <th>1</th>\n",
       "      <td>2</td>\n",
       "      <td>1</td>\n",
       "      <td>Dear @CAPS1 @CAPS2, I believe that using compu...</td>\n",
       "      <td>5.0</td>\n",
       "      <td>4.0</td>\n",
       "      <td>9.0</td>\n",
       "      <td>422.0</td>\n",
       "      <td>20.0</td>\n",
       "      <td>20.950000</td>\n",
       "      <td>81.0</td>\n",
       "      <td>...</td>\n",
       "      <td>0.0</td>\n",
       "      <td>0.0</td>\n",
       "      <td>0.0</td>\n",
       "      <td>0.0</td>\n",
       "      <td>0.0</td>\n",
       "      <td>0.0</td>\n",
       "      <td>0.0</td>\n",
       "      <td>0.0</td>\n",
       "      <td>0.0</td>\n",
       "      <td>0.0</td>\n",
       "    </tr>\n",
       "    <tr>\n",
       "      <th>2</th>\n",
       "      <td>3</td>\n",
       "      <td>1</td>\n",
       "      <td>Dear, @CAPS1 @CAPS2 @CAPS3 More and more peopl...</td>\n",
       "      <td>4.0</td>\n",
       "      <td>3.0</td>\n",
       "      <td>7.0</td>\n",
       "      <td>283.0</td>\n",
       "      <td>14.0</td>\n",
       "      <td>19.928571</td>\n",
       "      <td>52.0</td>\n",
       "      <td>...</td>\n",
       "      <td>0.0</td>\n",
       "      <td>0.0</td>\n",
       "      <td>0.0</td>\n",
       "      <td>0.0</td>\n",
       "      <td>0.0</td>\n",
       "      <td>0.0</td>\n",
       "      <td>0.0</td>\n",
       "      <td>0.0</td>\n",
       "      <td>0.0</td>\n",
       "      <td>0.0</td>\n",
       "    </tr>\n",
       "    <tr>\n",
       "      <th>3</th>\n",
       "      <td>4</td>\n",
       "      <td>1</td>\n",
       "      <td>Dear Local Newspaper, @CAPS1 I have found that...</td>\n",
       "      <td>5.0</td>\n",
       "      <td>5.0</td>\n",
       "      <td>10.0</td>\n",
       "      <td>527.0</td>\n",
       "      <td>27.0</td>\n",
       "      <td>19.407407</td>\n",
       "      <td>131.0</td>\n",
       "      <td>...</td>\n",
       "      <td>0.0</td>\n",
       "      <td>0.0</td>\n",
       "      <td>0.0</td>\n",
       "      <td>0.0</td>\n",
       "      <td>0.0</td>\n",
       "      <td>0.0</td>\n",
       "      <td>0.0</td>\n",
       "      <td>0.0</td>\n",
       "      <td>0.0</td>\n",
       "      <td>0.0</td>\n",
       "    </tr>\n",
       "    <tr>\n",
       "      <th>4</th>\n",
       "      <td>5</td>\n",
       "      <td>1</td>\n",
       "      <td>Dear @LOCATION1, I know having computers has a...</td>\n",
       "      <td>4.0</td>\n",
       "      <td>4.0</td>\n",
       "      <td>8.0</td>\n",
       "      <td>470.0</td>\n",
       "      <td>30.0</td>\n",
       "      <td>15.500000</td>\n",
       "      <td>87.0</td>\n",
       "      <td>...</td>\n",
       "      <td>0.0</td>\n",
       "      <td>0.0</td>\n",
       "      <td>0.0</td>\n",
       "      <td>0.0</td>\n",
       "      <td>0.0</td>\n",
       "      <td>0.0</td>\n",
       "      <td>0.0</td>\n",
       "      <td>0.0</td>\n",
       "      <td>0.0</td>\n",
       "      <td>0.0</td>\n",
       "    </tr>\n",
       "  </tbody>\n",
       "</table>\n",
       "<p>5 rows × 13814 columns</p>\n",
       "</div>"
      ],
      "text/plain": [
       "   essay_id  essay_set                                            essay_*  \\\n",
       "0         1          1  Dear local newspaper, I think effects computer...   \n",
       "1         2          1  Dear @CAPS1 @CAPS2, I believe that using compu...   \n",
       "2         3          1  Dear, @CAPS1 @CAPS2 @CAPS3 More and more peopl...   \n",
       "3         4          1  Dear Local Newspaper, @CAPS1 I have found that...   \n",
       "4         5          1  Dear @LOCATION1, I know having computers has a...   \n",
       "\n",
       "   rater1_domain1  rater2_domain1  domain1_score  *_# of words_*  \\\n",
       "0             4.0             4.0            8.0           343.0   \n",
       "1             5.0             4.0            9.0           422.0   \n",
       "2             4.0             3.0            7.0           283.0   \n",
       "3             5.0             5.0           10.0           527.0   \n",
       "4             4.0             4.0            8.0           470.0   \n",
       "\n",
       "   *_# of sentences_*  *_Average lenght of sentences_*  *_# of large words_*  \\\n",
       "0                16.0                        21.125000                  59.0   \n",
       "1                20.0                        20.950000                  81.0   \n",
       "2                14.0                        19.928571                  52.0   \n",
       "3                27.0                        19.407407                 131.0   \n",
       "4                30.0                        15.500000                  87.0   \n",
       "\n",
       "   ...    ªbut  ªcomputers  ªcyberspace  ªgame  ªhey  ªhome  ªhuh  ªin  ªmom  \\\n",
       "0  ...     0.0         0.0          0.0    0.0   0.0    0.0   0.0  0.0   0.0   \n",
       "1  ...     0.0         0.0          0.0    0.0   0.0    0.0   0.0  0.0   0.0   \n",
       "2  ...     0.0         0.0          0.0    0.0   0.0    0.0   0.0  0.0   0.0   \n",
       "3  ...     0.0         0.0          0.0    0.0   0.0    0.0   0.0  0.0   0.0   \n",
       "4  ...     0.0         0.0          0.0    0.0   0.0    0.0   0.0  0.0   0.0   \n",
       "\n",
       "   ªreal  \n",
       "0    0.0  \n",
       "1    0.0  \n",
       "2    0.0  \n",
       "3    0.0  \n",
       "4    0.0  \n",
       "\n",
       "[5 rows x 13814 columns]"
      ]
     },
     "execution_count": 14,
     "metadata": {},
     "output_type": "execute_result"
    }
   ],
   "source": [
    "df_1.head()"
   ]
  },
  {
   "cell_type": "markdown",
   "metadata": {},
   "source": [
    "# Feature scaling (Y)"
   ]
  },
  {
   "cell_type": "code",
   "execution_count": 15,
   "metadata": {},
   "outputs": [],
   "source": [
    "def scalerY(row, max_, min_):\n",
    "    return ((row['domain1_score'] - min_)/(max_ - min_))\n",
    "for i in dataframes:\n",
    "    i['domain1_score'] = i.apply(scalerY,  args=(i['domain1_score'].max(), i['domain1_score'].min(), ) ,axis = 1)"
   ]
  },
  {
   "cell_type": "markdown",
   "metadata": {},
   "source": [
    "# Lasso"
   ]
  },
  {
   "cell_type": "code",
   "execution_count": 17,
   "metadata": {},
   "outputs": [],
   "source": [
    "Lasso_p = []\n",
    "\n",
    "for index_, df_ in enumerate(dataframes):\n",
    "    X_train, X_test, y_train, y_test = train_test_split(df_, df_.domain1_score, test_size=0.2,\n",
    "                                                    random_state=1)\n",
    "    variables_training = [i for i in df_.columns if i not in ['essay_id', 'index','Unnamed: 0','essay_set', \n",
    "                                                              'rater1_domain1', 'essay_*','rater2_domain1' ,'essay_clean',\n",
    "                                                              'domain1_score']]\n",
    "    scaler = MinMaxScaler()\n",
    "    scaler.fit(df_[variables_training])\n",
    "    \n",
    "    alpha_ =  [.001, .002, .01 , 0.05]\n",
    "    for i in alpha_:\n",
    "        lassoreg = Lasso(alpha=i, max_iter=1e2 )\n",
    "        lassoreg.fit(scaler.transform(X_train[variables_training]),y_train)\n",
    "        y_pred = lassoreg.predict(scaler.transform(X_test[variables_training]))\n",
    "    \n",
    "        try:\n",
    "            spear, p = Spearman(a = y_test.values, b = y_pred)\n",
    "            \n",
    "        except:\n",
    "            spear = 0\n",
    "            p = 0\n",
    "            \n",
    "        Lasso_p.append((index_, i , spear))"
   ]
  },
  {
   "cell_type": "code",
   "execution_count": 18,
   "metadata": {},
   "outputs": [
    {
     "name": "stdout",
     "output_type": "stream",
     "text": [
      "Maximized Spearman for set  1 is  0.8065789465500072  with alpha equal to  0.001\n",
      "Maximized Spearman for set  2 is  0.7184006774422282  with alpha equal to  0.001\n",
      "Maximized Spearman for set  3 is  0.7659704156245658  with alpha equal to  0.001\n",
      "Maximized Spearman for set  4 is  0.8555187895359274  with alpha equal to  0.001\n",
      "Maximized Spearman for set  5 is  0.8444435495106415  with alpha equal to  0.001\n",
      "Maximized Spearman for set  6 is  0.8311782141759014  with alpha equal to  0.001\n",
      "Maximized Spearman for set  7 is  0.7234324361682292  with alpha equal to  0.001\n",
      "Maximized Spearman for set  8 is  0.718206067759654  with alpha equal to  0.001\n"
     ]
    }
   ],
   "source": [
    "for i in range(0,8):\n",
    "    l=[]\n",
    "    l =[j for j  in  Lasso_p if j[0]==i ]\n",
    "    l.sort(key = lambda x:x[2], reverse = True)\n",
    "    print(\"Maximized Spearman for set \", i+1, \"is \", l[0][2] , \" with alpha equal to \", l[0][1] )"
   ]
  },
  {
   "cell_type": "markdown",
   "metadata": {},
   "source": [
    "# Ridge"
   ]
  },
  {
   "cell_type": "code",
   "execution_count": 19,
   "metadata": {},
   "outputs": [],
   "source": [
    "Ridge_p = []\n",
    "for index_, df_ in enumerate(dataframes):\n",
    "    X_train, X_test, y_train, y_test = train_test_split(df_, df_.domain1_score, test_size=0.2,\n",
    "                                                    random_state=1)\n",
    "    variables_training = [i for i in df_.columns if i not in ['essay_id', 'index','Unnamed: 0','essay_set', \n",
    "                                                              'rater1_domain1', 'essay_*','rater2_domain1' ,'essay_clean',\n",
    "                                                              'domain1_score']]\n",
    "    scaler = MinMaxScaler()\n",
    "    scaler.fit(df_[variables_training])\n",
    "    \n",
    "\n",
    "    alpha_ =  [ 1, 10, 100, 1000]\n",
    "    for i in alpha_:\n",
    "        ridgereg = Ridge(alpha=i, max_iter=1e2 )\n",
    "        ridgereg.fit(scaler.transform(X_train[variables_training]),y_train)\n",
    "        y_pred = ridgereg.predict(scaler.transform(X_test[variables_training]))\n",
    "    \n",
    "        try:\n",
    "            spear, p = Spearman(a = y_test.values, b = y_pred)\n",
    "        except:\n",
    "            spear = 0\n",
    "            p = 0\n",
    "\n",
    "        Ridge_p.append((index_, i , spear))"
   ]
  },
  {
   "cell_type": "code",
   "execution_count": 20,
   "metadata": {},
   "outputs": [
    {
     "name": "stdout",
     "output_type": "stream",
     "text": [
      "Maximized Spearman for set  1 is  0.8216874045222298  with alpha equal to  100\n",
      "Maximized Spearman for set  2 is  0.7293562103659318  with alpha equal to  1000\n",
      "Maximized Spearman for set  3 is  0.7549943964415623  with alpha equal to  100\n",
      "Maximized Spearman for set  4 is  0.8604791518298555  with alpha equal to  10\n",
      "Maximized Spearman for set  5 is  0.8471606762562369  with alpha equal to  100\n",
      "Maximized Spearman for set  6 is  0.8339959938827143  with alpha equal to  10\n",
      "Maximized Spearman for set  7 is  0.7380914397592849  with alpha equal to  10\n",
      "Maximized Spearman for set  8 is  0.7097062940972032  with alpha equal to  10\n"
     ]
    }
   ],
   "source": [
    "for i in range(0,8):\n",
    "    l=[]\n",
    "    l =[j for j  in  Ridge_p if j[0]==i ]\n",
    "    l.sort(key = lambda x:x[2], reverse = True)\n",
    "    print(\"Maximized Spearman for set \", i+1, \"is \", l[0][2] , \" with alpha equal to \", l[0][1] )"
   ]
  },
  {
   "cell_type": "markdown",
   "metadata": {},
   "source": [
    "# Linear regression"
   ]
  },
  {
   "cell_type": "code",
   "execution_count": 21,
   "metadata": {},
   "outputs": [],
   "source": [
    "reg_p = []\n",
    "\n",
    "for index_, df_ in enumerate(dataframes):\n",
    "    X_train, X_test, y_train, y_test = train_test_split(df_, df_.domain1_score, test_size=0.2,\n",
    "                                                    random_state=1)\n",
    "    variables_training = [i for i in df_.columns if i not in ['essay_id', 'index','Unnamed: 0','essay_set', \n",
    "                                                              'rater1_domain1', 'essay_*','rater2_domain1' ,'essay_clean',\n",
    "                                                              'domain1_score']]\n",
    "    scaler = MinMaxScaler()\n",
    "    scaler.fit(df_[variables_training])\n",
    "    \n",
    "\n",
    "\n",
    "    regressor = LinearRegression()\n",
    "    regressor.fit(scaler.transform(X_train[variables_training]),y_train)\n",
    "    y_pred = regressor.predict(scaler.transform(X_test[variables_training]))\n",
    "\n",
    "    try:\n",
    "        spear, p = Spearman(a = y_test.values, b = y_pred)\n",
    "    except:\n",
    "        spear = 0\n",
    "        p = 0\n",
    "    reg_p.append((index_, spear))"
   ]
  },
  {
   "cell_type": "code",
   "execution_count": 24,
   "metadata": {},
   "outputs": [
    {
     "name": "stdout",
     "output_type": "stream",
     "text": [
      "Spearman for set  1 is  0.6646620579684641\n",
      "Spearman for set  2 is  0.6481428260157118\n",
      "Spearman for set  3 is  0.10618280096237509\n",
      "Spearman for set  4 is  0.7285880119074006\n",
      "Spearman for set  5 is  0.6884005244015917\n",
      "Spearman for set  6 is  0.6987140376446817\n",
      "Spearman for set  7 is  0.6655639190759524\n",
      "Spearman for set  8 is  0.6866300932690507\n"
     ]
    }
   ],
   "source": [
    "for i in range(0,8):\n",
    "    print(\"Spearman for set \", i+1, \"is \",  reg_p[i][1])"
   ]
  },
  {
   "cell_type": "markdown",
   "metadata": {},
   "source": [
    "# Support Vector Regression"
   ]
  },
  {
   "cell_type": "code",
   "execution_count": 25,
   "metadata": {},
   "outputs": [],
   "source": [
    "reg_p = []\n",
    "from sklearn.svm import SVR\n",
    "for index_, df_ in enumerate(dataframes):\n",
    "    X_train, X_test, y_train, y_test = train_test_split(df_, df_.domain1_score, test_size=0.2,\n",
    "                                                    random_state=1)\n",
    "    variables_training = [i for i in df_.columns if i not in ['essay_id', 'index','Unnamed: 0','essay_set', \n",
    "                                                              'rater1_domain1', 'essay_*','rater2_domain1' ,'essay_clean',\n",
    "                                                              'domain1_score']]\n",
    "    scaler = MinMaxScaler()\n",
    "    scaler.fit(df_[variables_training])\n",
    "    \n",
    "\n",
    "\n",
    "    regressor = SVR(kernel = 'rbf')\n",
    "    regressor.fit(scaler.transform(X_train[variables_training]),y_train)\n",
    "    y_pred = regressor.predict(scaler.transform(X_test[variables_training]))\n",
    "\n",
    "    try:\n",
    "        spear, p = Spearman(a = y_test.values, b = y_pred)\n",
    "    except:\n",
    "        spear = 0\n",
    "        p = 0\n",
    "    reg_p.append((index_, spear))"
   ]
  },
  {
   "cell_type": "code",
   "execution_count": 26,
   "metadata": {},
   "outputs": [
    {
     "name": "stdout",
     "output_type": "stream",
     "text": [
      "Spearman for set  1 is  0.8162984710508621\n",
      "Spearman for set  2 is  0.7285274720936054\n",
      "Spearman for set  3 is  0.7540350101494394\n",
      "Spearman for set  4 is  0.8341046696405957\n",
      "Spearman for set  5 is  0.8484919779325366\n",
      "Spearman for set  6 is  0.8090100253584938\n",
      "Spearman for set  7 is  0.7301162687397886\n",
      "Spearman for set  8 is  0.6621428863531085\n"
     ]
    }
   ],
   "source": [
    "for i in range(0,8):\n",
    "    print(\"Spearman for set \", i+1, \"is \",  reg_p[i][1])"
   ]
  },
  {
   "cell_type": "markdown",
   "metadata": {},
   "source": [
    "# Random Forest"
   ]
  },
  {
   "cell_type": "code",
   "execution_count": 27,
   "metadata": {},
   "outputs": [],
   "source": [
    "reg_p = []\n",
    "from sklearn.ensemble import RandomForestRegressor\n",
    "\n",
    "for index_, df_ in enumerate(dataframes):\n",
    "    X_train, X_test, y_train, y_test = train_test_split(df_, df_.domain1_score, test_size=0.2,\n",
    "                                                    random_state=1)\n",
    "    variables_training = [i for i in df_.columns if i not in ['essay_id', 'index','Unnamed: 0','essay_set', \n",
    "                                                              'rater1_domain1', 'essay_*','rater2_domain1' ,'essay_clean',\n",
    "                                                              'domain1_score']]\n",
    "    scaler = MinMaxScaler()\n",
    "    scaler.fit(df_[variables_training])\n",
    "    \n",
    "\n",
    "\n",
    "    regressor = RandomForestRegressor(n_estimators = 10, random_state = 0)\n",
    "    regressor.fit(scaler.transform(X_train[variables_training]),y_train)\n",
    "    y_pred = regressor.predict(scaler.transform(X_test[variables_training]))\n",
    "\n",
    "    try:\n",
    "        spear, p = Spearman(a = y_test.values, b = y_pred)\n",
    "    except:\n",
    "        spear = 0\n",
    "        p = 0\n",
    "    reg_p.append((index_, spear))"
   ]
  },
  {
   "cell_type": "code",
   "execution_count": 28,
   "metadata": {},
   "outputs": [
    {
     "name": "stdout",
     "output_type": "stream",
     "text": [
      "Spearman for set  1 is  0.7992935813107505\n",
      "Spearman for set  2 is  0.6960704626425188\n",
      "Spearman for set  3 is  0.7212866481801385\n",
      "Spearman for set  4 is  0.8212086250780259\n",
      "Spearman for set  5 is  0.8383976630310902\n",
      "Spearman for set  6 is  0.7972332500132643\n",
      "Spearman for set  7 is  0.6993280596498205\n",
      "Spearman for set  8 is  0.6174974268719169\n"
     ]
    }
   ],
   "source": [
    "for i in range(0,8):\n",
    "    print(\"Spearman for set \", i+1, \"is \",  reg_p[i][1])"
   ]
  },
  {
   "cell_type": "markdown",
   "metadata": {},
   "source": [
    "# Artificial Neural Network"
   ]
  },
  {
   "cell_type": "code",
   "execution_count": 29,
   "metadata": {},
   "outputs": [
    {
     "name": "stderr",
     "output_type": "stream",
     "text": [
      "Using TensorFlow backend.\n"
     ]
    },
    {
     "name": "stdout",
     "output_type": "stream",
     "text": [
      "Epoch 1/5\n",
      "1426/1426 [==============================] - 17s 12ms/step - loss: 0.0162\n",
      "Epoch 2/5\n",
      "1426/1426 [==============================] - 16s 11ms/step - loss: 0.0074\n",
      "Epoch 3/5\n",
      "1426/1426 [==============================] - 16s 11ms/step - loss: 0.0035\n",
      "Epoch 4/5\n",
      "1426/1426 [==============================] - 16s 11ms/step - loss: 0.0025\n",
      "Epoch 5/5\n",
      "1426/1426 [==============================] - 16s 11ms/step - loss: 0.0017\n",
      "Epoch 1/5\n",
      "1440/1440 [==============================] - 16s 11ms/step - loss: 0.0170\n",
      "Epoch 2/5\n",
      "1440/1440 [==============================] - 16s 11ms/step - loss: 0.0060\n",
      "Epoch 3/5\n",
      "1440/1440 [==============================] - 16s 11ms/step - loss: 0.0022\n",
      "Epoch 4/5\n",
      "1440/1440 [==============================] - 16s 11ms/step - loss: 0.0012\n",
      "Epoch 5/5\n",
      "1440/1440 [==============================] - 18s 13ms/step - loss: 7.9308e-04\n",
      "Epoch 1/5\n",
      "1380/1380 [==============================] - 8s 6ms/step - loss: 0.0515\n",
      "Epoch 2/5\n",
      "1380/1380 [==============================] - 8s 6ms/step - loss: 0.0196\n",
      "Epoch 3/5\n",
      "1380/1380 [==============================] - 8s 6ms/step - loss: 0.0091\n",
      "Epoch 4/5\n",
      "1380/1380 [==============================] - 8s 6ms/step - loss: 0.0055\n",
      "Epoch 5/5\n",
      "1380/1380 [==============================] - 8s 6ms/step - loss: 0.0042\n",
      "Epoch 1/5\n",
      "1416/1416 [==============================] - 7s 5ms/step - loss: 0.0492\n",
      "Epoch 2/5\n",
      "1416/1416 [==============================] - 6s 4ms/step - loss: 0.0191\n",
      "Epoch 3/5\n",
      "1416/1416 [==============================] - 6s 4ms/step - loss: 0.0088\n",
      "Epoch 4/5\n",
      "1416/1416 [==============================] - 6s 4ms/step - loss: 0.0049\n",
      "Epoch 5/5\n",
      "1416/1416 [==============================] - 6s 4ms/step - loss: 0.0033\n",
      "Epoch 1/5\n",
      "1444/1444 [==============================] - 6s 4ms/step - loss: 0.0307\n",
      "Epoch 2/5\n",
      "1444/1444 [==============================] - 6s 4ms/step - loss: 0.0112\n",
      "Epoch 3/5\n",
      "1444/1444 [==============================] - 6s 4ms/step - loss: 0.0055\n",
      "Epoch 4/5\n",
      "1444/1444 [==============================] - 6s 4ms/step - loss: 0.0033\n",
      "Epoch 5/5\n",
      "1444/1444 [==============================] - 6s 4ms/step - loss: 0.0028\n",
      "Epoch 1/5\n",
      "1440/1440 [==============================] - 7s 5ms/step - loss: 0.0356\n",
      "Epoch 2/5\n",
      "1440/1440 [==============================] - 7s 5ms/step - loss: 0.0125\n",
      "Epoch 3/5\n",
      "1440/1440 [==============================] - 6s 5ms/step - loss: 0.0073\n",
      "Epoch 4/5\n",
      "1440/1440 [==============================] - 6s 5ms/step - loss: 0.0050\n",
      "Epoch 5/5\n",
      "1440/1440 [==============================] - 7s 5ms/step - loss: 0.0033\n",
      "Epoch 1/5\n",
      "1255/1255 [==============================] - 11s 8ms/step - loss: 0.0292\n",
      "Epoch 2/5\n",
      "1255/1255 [==============================] - 10s 8ms/step - loss: 0.0110\n",
      "Epoch 3/5\n",
      "1255/1255 [==============================] - 10s 8ms/step - loss: 0.0045\n",
      "Epoch 4/5\n",
      "1255/1255 [==============================] - 10s 8ms/step - loss: 0.0027\n",
      "Epoch 5/5\n",
      "1255/1255 [==============================] - 10s 8ms/step - loss: 0.0023\n",
      "Epoch 1/5\n",
      "578/578 [==============================] - 6s 10ms/step - loss: 0.0111\n",
      "Epoch 2/5\n",
      "578/578 [==============================] - 5s 9ms/step - loss: 0.0041\n",
      "Epoch 3/5\n",
      "578/578 [==============================] - 5s 9ms/step - loss: 0.0019\n",
      "Epoch 4/5\n",
      "578/578 [==============================] - 5s 9ms/step - loss: 0.0013\n",
      "Epoch 5/5\n",
      "578/578 [==============================] - 5s 9ms/step - loss: 0.0010\n"
     ]
    }
   ],
   "source": [
    "reg_p = []\n",
    "\n",
    "import keras\n",
    "from keras.models import Sequential\n",
    "from keras.layers import Dense\n",
    "for index_, df_ in enumerate(dataframes):\n",
    "    X_train, X_test, y_train, y_test = train_test_split(df_, df_.domain1_score, test_size=0.2,\n",
    "                                                    random_state=1)\n",
    "    variables_training = [i for i in df_.columns if i not in ['essay_id', 'index','Unnamed: 0','essay_set', \n",
    "                                                              'rater1_domain1', 'essay_*','rater2_domain1' ,'essay_clean',\n",
    "                                                              'domain1_score']]\n",
    "    scaler = MinMaxScaler()\n",
    "    scaler.fit(df_[variables_training])\n",
    "    \n",
    "\n",
    "\n",
    "    reg = Sequential()\n",
    "    reg.add(Dense(output_dim = 300, kernel_initializer = 'uniform', activation = 'relu', input_dim = len(variables_training)))\n",
    "    reg.add(Dense(output_dim = 300, kernel_initializer = 'uniform', activation = 'relu'))\n",
    "    reg.add(Dense(output_dim = 1, kernel_initializer = 'uniform', activation = 'sigmoid'))\n",
    "    reg.compile(optimizer = 'adam', loss = 'mean_squared_error')\n",
    "    reg.fit(scaler.transform(X_train[variables_training]), y_train, batch_size = 10, epochs = 5)\n",
    "    y_pred = reg.predict(scaler.transform(X_test[variables_training]))  \n",
    "    \n",
    "    \n",
    "    \n",
    "    try:\n",
    "        spear, p = Spearman(a = y_test.values, b = y_pred)\n",
    "    except:\n",
    "        spear = 0\n",
    "        p = 0\n",
    "    reg_p.append((index_, spear))"
   ]
  },
  {
   "cell_type": "code",
   "execution_count": 31,
   "metadata": {},
   "outputs": [
    {
     "name": "stdout",
     "output_type": "stream",
     "text": [
      "Spearman for set  1 is  0.7482482433407447\n",
      "Spearman for set  2 is  0.7063769804115991\n",
      "Spearman for set  3 is  0.6789921097647243\n",
      "Spearman for set  4 is  0.8491714972708737\n",
      "Spearman for set  5 is  0.8045216541428619\n",
      "Spearman for set  6 is  0.8040462999031003\n",
      "Spearman for set  7 is  0.6921313714778958\n",
      "Spearman for set  8 is  0.6819426159422449\n"
     ]
    }
   ],
   "source": [
    "for i in range(0,8):\n",
    "    print(\"Spearman for set \", i+1, \"is \",  reg_p[i][1])"
   ]
  },
  {
   "cell_type": "markdown",
   "metadata": {},
   "source": [
    "* You can compare the models based on the Spearman Rank Correlation.\n",
    "* Instead of Spearman Rank Correlation we can use QWK.\n",
    "* Probably with using ANN such as LSTM and proposing rich model based on it we can get much better results. \n"
   ]
  },
  {
   "cell_type": "code",
   "execution_count": null,
   "metadata": {},
   "outputs": [],
   "source": []
  }
 ],
 "metadata": {
  "kernelspec": {
   "display_name": "Python 3",
   "language": "python",
   "name": "python3"
  },
  "language_info": {
   "codemirror_mode": {
    "name": "ipython",
    "version": 3
   },
   "file_extension": ".py",
   "mimetype": "text/x-python",
   "name": "python",
   "nbconvert_exporter": "python",
   "pygments_lexer": "ipython3",
   "version": "3.6.4"
  },
  "toc": {
   "nav_menu": {},
   "number_sections": true,
   "sideBar": true,
   "skip_h1_title": false,
   "title_cell": "Table of Contents",
   "title_sidebar": "Contents",
   "toc_cell": true,
   "toc_position": {},
   "toc_section_display": true,
   "toc_window_display": false
  }
 },
 "nbformat": 4,
 "nbformat_minor": 2
}
